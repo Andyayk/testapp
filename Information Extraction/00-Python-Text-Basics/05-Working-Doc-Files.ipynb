{
 "cells": [
  {
   "cell_type": "code",
   "execution_count": 1,
   "metadata": {},
   "outputs": [],
   "source": [
    "import numpy as np\n",
    "import pandas as pd\n",
    "\n",
    "from docx2python import docx2python\n",
    "\n",
    "# extract images http://theautomatic.net/2019/10/14/how-to-read-word-documents-with-python/"
   ]
  },
  {
   "cell_type": "code",
   "execution_count": 2,
   "metadata": {},
   "outputs": [],
   "source": [
    "# extract docx content\n",
    "doc_result = docx2python('zen_of_python.docx', extract_image=False)"
   ]
  },
  {
   "cell_type": "code",
   "execution_count": 3,
   "metadata": {},
   "outputs": [
    {
     "name": "stdout",
     "output_type": "stream",
     "text": [
      "This is the Body:\n",
      "[[[['Field1'], ['Field2']], [['Info1'], ['Info2']], [['Info3'], ['Info4']]], [[['Header Title', '', 'Paragraph written over here.', '--\\tList 1', '--\\tList 2', '', 'Sub Heading', '1)\\tPoint One', '2)\\tPoint Two', '3)\\tPoint Three']]]]\n",
      "\n",
      "This is the First Element:\n",
      "[[['Field1'], ['Field2']], [['Info1'], ['Info2']], [['Info3'], ['Info4']]]]\n",
      "\n",
      "This is the Second Element:\n",
      "[[['Header Title', '', 'Paragraph written over here.', '--\\tList 1', '--\\tList 2', '', 'Sub Heading', '1)\\tPoint One', '2)\\tPoint Two', '3)\\tPoint Three']]]\n",
      "\n"
     ]
    }
   ],
   "source": [
    "# get separate components of the document\n",
    "doc_result_body = doc_result.body\n",
    "print(f\"This is the Body:\\n{doc_result_body}\\n\")\n",
    "\n",
    "# get the table text\n",
    "print(f\"This is the First Element:\\n{doc_result_body[0]}]\\n\")\n",
    " \n",
    "# get the text from Zen of Python\n",
    "print(f\"This is the Second Element:\\n{doc_result_body[1]}\\n\")"
   ]
  },
  {
   "cell_type": "code",
   "execution_count": 4,
   "metadata": {},
   "outputs": [
    {
     "data": {
      "text/html": [
       "<div>\n",
       "<style scoped>\n",
       "    .dataframe tbody tr th:only-of-type {\n",
       "        vertical-align: middle;\n",
       "    }\n",
       "\n",
       "    .dataframe tbody tr th {\n",
       "        vertical-align: top;\n",
       "    }\n",
       "\n",
       "    .dataframe thead th {\n",
       "        text-align: right;\n",
       "    }\n",
       "</style>\n",
       "<table border=\"1\" class=\"dataframe\">\n",
       "  <thead>\n",
       "    <tr style=\"text-align: right;\">\n",
       "      <th></th>\n",
       "      <th>0</th>\n",
       "      <th>1</th>\n",
       "    </tr>\n",
       "  </thead>\n",
       "  <tbody>\n",
       "    <tr>\n",
       "      <th>0</th>\n",
       "      <td>[Info1]</td>\n",
       "      <td>[Info2]</td>\n",
       "    </tr>\n",
       "    <tr>\n",
       "      <th>1</th>\n",
       "      <td>[Info3]</td>\n",
       "      <td>[Info4]</td>\n",
       "    </tr>\n",
       "  </tbody>\n",
       "</table>\n",
       "</div>"
      ],
      "text/plain": [
       "         0        1\n",
       "0  [Info1]  [Info2]\n",
       "1  [Info3]  [Info4]"
      ]
     },
     "execution_count": 4,
     "metadata": {},
     "output_type": "execute_result"
    }
   ],
   "source": [
    "# convert this result into a tabular format using pandas\n",
    "df = pd.DataFrame(doc_result_body[0][1:])\n",
    "\n",
    "df"
   ]
  },
  {
   "cell_type": "code",
   "execution_count": 5,
   "metadata": {},
   "outputs": [
    {
     "data": {
      "text/html": [
       "<div>\n",
       "<style scoped>\n",
       "    .dataframe tbody tr th:only-of-type {\n",
       "        vertical-align: middle;\n",
       "    }\n",
       "\n",
       "    .dataframe tbody tr th {\n",
       "        vertical-align: top;\n",
       "    }\n",
       "\n",
       "    .dataframe thead th {\n",
       "        text-align: right;\n",
       "    }\n",
       "</style>\n",
       "<table border=\"1\" class=\"dataframe\">\n",
       "  <thead>\n",
       "    <tr style=\"text-align: right;\">\n",
       "      <th></th>\n",
       "      <th>0</th>\n",
       "      <th>1</th>\n",
       "    </tr>\n",
       "  </thead>\n",
       "  <tbody>\n",
       "    <tr>\n",
       "      <th>0</th>\n",
       "      <td>Info1</td>\n",
       "      <td>Info2</td>\n",
       "    </tr>\n",
       "    <tr>\n",
       "      <th>1</th>\n",
       "      <td>Info3</td>\n",
       "      <td>Info4</td>\n",
       "    </tr>\n",
       "  </tbody>\n",
       "</table>\n",
       "</div>"
      ],
      "text/plain": [
       "       0      1\n",
       "0  Info1  Info2\n",
       "1  Info3  Info4"
      ]
     },
     "execution_count": 5,
     "metadata": {},
     "output_type": "execute_result"
    }
   ],
   "source": [
    "# applymap method to apply the lambda function below to every cell in the data frame. This function gets the individual value within the list in each cell and removes all instances of “\\t”.\n",
    "df = df.applymap(lambda val: val[0].strip(\"\\t\"))\n",
    "\n",
    "df"
   ]
  },
  {
   "cell_type": "code",
   "execution_count": 6,
   "metadata": {},
   "outputs": [
    {
     "data": {
      "text/html": [
       "<div>\n",
       "<style scoped>\n",
       "    .dataframe tbody tr th:only-of-type {\n",
       "        vertical-align: middle;\n",
       "    }\n",
       "\n",
       "    .dataframe tbody tr th {\n",
       "        vertical-align: top;\n",
       "    }\n",
       "\n",
       "    .dataframe thead th {\n",
       "        text-align: right;\n",
       "    }\n",
       "</style>\n",
       "<table border=\"1\" class=\"dataframe\">\n",
       "  <thead>\n",
       "    <tr style=\"text-align: right;\">\n",
       "      <th></th>\n",
       "      <th>Field1</th>\n",
       "      <th>Field2</th>\n",
       "    </tr>\n",
       "  </thead>\n",
       "  <tbody>\n",
       "    <tr>\n",
       "      <th>0</th>\n",
       "      <td>Info1</td>\n",
       "      <td>Info2</td>\n",
       "    </tr>\n",
       "    <tr>\n",
       "      <th>1</th>\n",
       "      <td>Info3</td>\n",
       "      <td>Info4</td>\n",
       "    </tr>\n",
       "  </tbody>\n",
       "</table>\n",
       "</div>"
      ],
      "text/plain": [
       "  Field1 Field2\n",
       "0  Info1  Info2\n",
       "1  Info3  Info4"
      ]
     },
     "execution_count": 6,
     "metadata": {},
     "output_type": "execute_result"
    }
   ],
   "source": [
    "# change the column headers to what we see in the Word file\n",
    "df.columns = [val[0].strip(\"\\t\") for val in doc_result.body[0][0]]\n",
    "\n",
    "df"
   ]
  },
  {
   "cell_type": "code",
   "execution_count": 7,
   "metadata": {},
   "outputs": [
    {
     "data": {
      "text/plain": [
       "'Field1\\n\\nField2\\n\\nInfo1\\n\\nInfo2\\n\\nInfo3\\n\\nInfo4\\n\\nHeader Title\\n\\n\\n\\nParagraph written over here.\\n\\n--\\tList 1\\n\\n--\\tList 2\\n\\n\\n\\nSub Heading\\n\\n1)\\tPoint One\\n\\n2)\\tPoint Two\\n\\n3)\\tPoint Three'"
      ]
     },
     "execution_count": 7,
     "metadata": {},
     "output_type": "execute_result"
    }
   ],
   "source": [
    "# get all text in a single string\n",
    "doc_result.text"
   ]
  },
  {
   "cell_type": "code",
   "execution_count": 8,
   "metadata": {},
   "outputs": [
    {
     "data": {
      "text/plain": [
       "{'title': None,\n",
       " 'subject': None,\n",
       " 'creator': 'Andy Ang',\n",
       " 'keywords': None,\n",
       " 'description': None,\n",
       " 'lastModifiedBy': 'Andy Ang',\n",
       " 'revision': '7',\n",
       " 'created': '2020-09-14T02:36:00Z',\n",
       " 'modified': '2020-09-14T03:02:00Z'}"
      ]
     },
     "execution_count": 8,
     "metadata": {},
     "output_type": "execute_result"
    }
   ],
   "source": [
    "# get metadata about the file using the properties attribute\n",
    "doc_result.properties"
   ]
  },
  {
   "cell_type": "code",
   "execution_count": 9,
   "metadata": {},
   "outputs": [
    {
     "data": {
      "text/plain": [
       "[]"
      ]
     },
     "execution_count": 9,
     "metadata": {},
     "output_type": "execute_result"
    }
   ],
   "source": [
    "# get the headers\n",
    "doc_result.header\n",
    " \n",
    "# get the footers\n",
    "doc_result.footer\n",
    "\n",
    "# get foot notes\n",
    "doc_result.footnotes"
   ]
  },
  {
   "cell_type": "code",
   "execution_count": 10,
   "metadata": {},
   "outputs": [
    {
     "data": {
      "text/plain": [
       "[[[['Field1'], ['Field2']], [['Info1'], ['Info2']], [['Info3'], ['Info4']]],\n",
       " [[['Header Title',\n",
       "    '',\n",
       "    'Paragraph written over here.',\n",
       "    '--\\tList 1',\n",
       "    '--\\tList 2',\n",
       "    '',\n",
       "    'Sub Heading',\n",
       "    '1)\\tPoint One',\n",
       "    '2)\\tPoint Two',\n",
       "    '3)\\tPoint Three']]]]"
      ]
     },
     "execution_count": 10,
     "metadata": {},
     "output_type": "execute_result"
    }
   ],
   "source": [
    "# get html, does not currently support table-related tags\n",
    "doc_html_result = docx2python('zen_of_python.docx', html = True)\n",
    "\n",
    "doc_html_result.body"
   ]
  },
  {
   "cell_type": "code",
   "execution_count": null,
   "metadata": {},
   "outputs": [],
   "source": []
  }
 ],
 "metadata": {
  "kernelspec": {
   "display_name": "Python 3",
   "language": "python",
   "name": "python3"
  },
  "language_info": {
   "codemirror_mode": {
    "name": "ipython",
    "version": 3
   },
   "file_extension": ".py",
   "mimetype": "text/x-python",
   "name": "python",
   "nbconvert_exporter": "python",
   "pygments_lexer": "ipython3",
   "version": "3.7.9"
  }
 },
 "nbformat": 4,
 "nbformat_minor": 4
}
