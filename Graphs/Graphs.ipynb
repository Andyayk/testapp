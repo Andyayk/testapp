{
 "cells": [
  {
   "cell_type": "markdown",
   "metadata": {},
   "source": [
    "# Generate Line Chart"
   ]
  },
  {
   "cell_type": "code",
   "execution_count": 1,
   "metadata": {},
   "outputs": [
    {
     "data": {
      "image/png": "[encoded data removed]",
      "text/plain": [
       "<Figure size 432x288 with 1 Axes>"
      ]
     },
     "metadata": {
      "needs_background": "light"
     },
     "output_type": "display_data"
    }
   ],
   "source": [
    "import matplotlib.pyplot as plt\n",
    "import numpy as np\n",
    "\n",
    "data = [8, 8.7, 7.1, 8.2, 6, 6.6, 7.7 , 8.9, 9.2, 7.6] #**data from user**\n",
    "\n",
    "fig, ax = plt.subplots()  #create a figure containing a single axes\n",
    "\n",
    "ax.xaxis.tick_top() #move x axis to the top\n",
    "\n",
    "plt.xlim([0, 10]) #set a fixed range of value for x axis\n",
    "plt.ylim([1, 10]) #set a fixed range of value for y axis\n",
    "\n",
    "plt.xticks(np.arange(0, 11, 1)) #set frequency of tick marks for x axis\n",
    "plt.yticks(np.arange(1, 11, 1)) #set frequency of tick marks for y axis\n",
    "\n",
    "plt.axvline(x = 5, color = 'r', linestyle = '-') #add middle line\n",
    "\n",
    "plt.tick_params(left = False, labelleft = False) #remove ticks on y axis\n",
    "\n",
    "fixedYRange = np.arange(1, 11, 1) #set for range for the plot to locate the data points on y axis\n",
    "\n",
    "ax.plot(data, fixedYRange)  #plot some data on the axes. (x, y)\n",
    "\n",
    "plt.show()"
   ]
  },
  {
   "cell_type": "markdown",
   "metadata": {},
   "source": [
    "# Generate Bar Chart"
   ]
  },
  {
   "cell_type": "code",
   "execution_count": 28,
   "metadata": {},
   "outputs": [
    {
     "data": {
      "image/png": "[encoded data removed]",
      "text/plain": [
       "<Figure size 576x576 with 4 Axes>"
      ]
     },
     "metadata": {
      "needs_background": "light"
     },
     "output_type": "display_data"
    }
   ],
   "source": [
    "import matplotlib.pyplot as plt\n",
    "\n",
    "fig = plt.figure(figsize=(8,8)) # Notice the equal aspect ratio\n",
    "ax = [fig.add_subplot(2,2,i+1) for i in range(4)]\n",
    "\n",
    "for a in ax:\n",
    "    a.set_xticklabels([])\n",
    "    a.set_yticklabels([])\n",
    "    a.set_aspect('equal')\n",
    "\n",
    "fig.subplots_adjust(wspace=0, hspace=0)"
   ]
  },
  {
   "cell_type": "markdown",
   "metadata": {},
   "source": [
    "# Creating single file from single template"
   ]
  },
  {
   "cell_type": "code",
   "execution_count": 2,
   "metadata": {},
   "outputs": [
    {
     "name": "stderr",
     "output_type": "stream",
     "text": [
      "C:\\Users\\Andy\\anaconda3\\envs\\Graphs\\lib\\site-packages\\tqdm\\auto.py:22: TqdmWarning: IProgress not found. Please update jupyter and ipywidgets. See https://ipywidgets.readthedocs.io/en/stable/user_install.html\n",
      "  from .autonotebook import tqdm as notebook_tqdm\n",
      "100%|██████████| 1/1 [00:02<00:00,  2.67s/it]\n"
     ]
    }
   ],
   "source": [
    "import os\n",
    "import datetime as dt\n",
    "\n",
    "from docxtpl import DocxTemplate, InlineImage\n",
    "from docx2pdf import convert\n",
    "\n",
    "# create a document object\n",
    "doc = DocxTemplate(os.getcwd() + \"\\\\templates\\\\inviteTmpl.docx\")\n",
    "\n",
    "# create context dictionary\n",
    "context = {\n",
    "    \"todayStr\": dt.datetime.now().strftime(\"%d-%b-%Y\"),\n",
    "    \"recipientName\": \"Chaitanya\",\n",
    "    \"evntDtStr\": \"21-Oct-2021\",\n",
    "    \"venueStr\": \"the beach\",\n",
    "    \"senderName\": \"Sanket\",\n",
    "}\n",
    "\n",
    "# inject image into the context\n",
    "context['bannerImg'] = InlineImage(doc, 'images/party_banner_0.png')\n",
    "\n",
    "# render context into the document object\n",
    "doc.render(context)\n",
    "\n",
    "# save the document object as a word file\n",
    "doc.save('invitation.docx')\n",
    "\n",
    "# convert word file to a pdf file\n",
    "convert('invitation.docx', 'invitation.pdf')"
   ]
  },
  {
   "cell_type": "markdown",
   "metadata": {},
   "source": [
    "# Creating multiple files from single template"
   ]
  },
  {
   "cell_type": "code",
   "execution_count": 3,
   "metadata": {},
   "outputs": [
    {
     "name": "stderr",
     "output_type": "stream",
     "text": [
      "100%|██████████| 1/1 [00:01<00:00,  1.67s/it]\n",
      "100%|██████████| 1/1 [00:01<00:00,  1.74s/it]\n",
      "100%|██████████| 1/1 [00:01<00:00,  1.71s/it]\n",
      "100%|██████████| 1/1 [00:00<00:00,  1.45it/s]\n",
      "100%|██████████| 1/1 [00:01<00:00,  1.90s/it]\n",
      "100%|██████████| 1/1 [00:01<00:00,  1.92s/it]\n",
      "100%|██████████| 1/1 [00:01<00:00,  1.94s/it]"
     ]
    },
    {
     "name": "stdout",
     "output_type": "stream",
     "text": [
      "execution complete...\n"
     ]
    },
    {
     "name": "stderr",
     "output_type": "stream",
     "text": [
      "\n"
     ]
    }
   ],
   "source": [
    "from docxtpl import DocxTemplate, InlineImage\n",
    "import datetime as dt\n",
    "from docx2pdf import convert\n",
    "\n",
    "# template word file path\n",
    "tmplPath = \"templates/inviteTmpl.docx\"\n",
    "\n",
    "personNames = [\"Aakav\", \"Aakesh\", \"Aarav\",\n",
    "               \"Advik\", \"Chaitanya\", \"Chandran\", \"Darsh\"]\n",
    "\n",
    "# run for each person in a for loop\n",
    "for pItr, p in enumerate(personNames):\n",
    "    # create a document object\n",
    "    doc = DocxTemplate(tmplPath)\n",
    "\n",
    "    # create context dictionary\n",
    "    context = {\n",
    "        \"todayStr\": dt.datetime.now().strftime(\"%d-%b-%Y\"),\n",
    "        \"recipientName\": p,\n",
    "        \"evntDtStr\": \"21-Oct-2021\",\n",
    "        \"venueStr\": \"the beach\",\n",
    "        \"senderName\": \"Sanket\",\n",
    "    }\n",
    "\n",
    "    # inject image into the context\n",
    "    bannerImgPath = 'images/party_banner_{0}.png'.format(pItr % 3)\n",
    "    imgObj = InlineImage(doc, bannerImgPath)\n",
    "    context['bannerImg'] = imgObj\n",
    "\n",
    "    # render context into the document object\n",
    "    doc.render(context)\n",
    "\n",
    "    # save the document object as a word file\n",
    "    resultFilePath = 'invites/invitation_{0}.docx'.format(pItr)\n",
    "    doc.save(resultFilePath)\n",
    "\n",
    "    # convert the word file into pdf\n",
    "    convert(resultFilePath, resultFilePath.replace('.docx', '.pdf'))\n",
    "\n",
    "print(\"execution complete...\")"
   ]
  },
  {
   "cell_type": "markdown",
   "metadata": {},
   "source": [
    "# Reports Automation"
   ]
  },
  {
   "cell_type": "code",
   "execution_count": 14,
   "metadata": {
    "scrolled": true
   },
   "outputs": [
    {
     "data": {
      "image/png": "[encoded data removed]",
      "text/plain": [
       "<Figure size 432x288 with 1 Axes>"
      ]
     },
     "metadata": {},
     "output_type": "display_data"
    },
    {
     "name": "stderr",
     "output_type": "stream",
     "text": [
      "\n",
      "\n",
      "\n",
      "\n",
      "  0%|          | 0/1 [00:00<?, ?it/s]\u001b[A\u001b[A\u001b[A\u001b[A\n",
      "\n",
      "\n",
      "\n",
      "100%|██████████| 1/1 [00:02<00:00,  2.21s/it]\u001b[A\u001b[A\u001b[A\u001b[A\n"
     ]
    }
   ],
   "source": [
    "import random\n",
    "import jinja2\n",
    "import datetime as dt\n",
    "import numpy as np\n",
    "import pandas as pd\n",
    "import matplotlib.pyplot as plt\n",
    "from docx.shared import Mm\n",
    "from docx2pdf import convert\n",
    "from docxtpl import DocxTemplate, InlineImage\n",
    "from pandas import Series, DataFrame\n",
    "from matplotlib.ticker import FuncFormatter, MaxNLocator\n",
    "from matplotlib.pyplot import figure\n",
    "\n",
    "# create a document object\n",
    "doc = DocxTemplate(\"templates/reportTmpl.docx\")\n",
    "\n",
    "# create data for reports\n",
    "salesTblRows = []\n",
    "for k in range(10):\n",
    "    costPu = random.randint(1, 15)\n",
    "    nUnits = random.randint(100, 500)\n",
    "    salesTblRows.append({\"sNo\": k+1, \"name\": \"Item \"+str(k+1),\n",
    "                         \"cPu\": costPu, \"nUnits\": nUnits, \"revenue\": costPu*nUnits})\n",
    "\n",
    "topItems = [x[\"name\"] for x in sorted(salesTblRows, key=lambda x: x[\"revenue\"], reverse=True)][0:3]\n",
    "\n",
    "todayStr = dt.datetime.now().strftime(\"%d-%b-%Y\")\n",
    "\n",
    "# inject image into the context\n",
    "# step 1 - chart configuration\n",
    "fig, ax = plt.subplots() #create a figure containing a single axes\n",
    "fig.subplots_adjust(right = 2)\n",
    "barWidth = 1.0 #adjust bar width\n",
    "#fig.tight_layout() #adjust space in between\n",
    "plt.tick_params(left = False, labelleft = False, bottom = False, labelbottom = False) #remove ticks on x & y axis\n",
    "ax.spines['top'].set_visible(False)\n",
    "ax.spines['right'].set_visible(False)\n",
    "ax.spines['bottom'].set_visible(False)\n",
    "ax.spines['left'].set_visible(False)\n",
    "\n",
    "# step 2 - data\n",
    "surveyResults = [1, 5, 10, 8, 9, 7] #survey results from user\n",
    "ratersType = ('self', 'sup', 'peer', 'sub', 'allraters', 'norm') #set the labels of each raters type\n",
    "y_pos = np.arange(len(ratersType)); #get coordinates of the bars\n",
    "\n",
    "# step 3 - generate chart\n",
    "ax.barh(y_pos, surveyResults, barWidth, align='edge', color=['black', 'lavender', 'lightskyblue', 'gray', 'lightgreen', 'lightsalmon']) #plot a horizontal bar chart\n",
    "ax.set_yticks(y_pos) #set y axis\n",
    "ax.xaxis.grid() #set gridline for x axis\n",
    "plt.xlim([1, 11]) #set a fixed range of value for x axis\n",
    "fixedXRange = np.arange(0, 11, 1) #set for range for the plot to locate the data points on x axis, FixedLocator error\n",
    "ax.set_xticks(fixedXRange) #set x axis\n",
    "\n",
    "# step 4 - display chart\n",
    "plt.show()\n",
    "\n",
    "# save into folder\n",
    "fig.savefig(\"images/trendImg.png\", bbox_inches='tight', transparent=True)\n",
    "\n",
    "# create data for reports\n",
    "surveyResults = [\n",
    "    {\n",
    "        'category': \"Category 1\",\n",
    "        'questions': [\n",
    "            {'questionTitle': 'Question A', 'ratingsImage': InlineImage(doc, 'images/trendImg.png', width=Mm(104), height=Mm(10)), 'self': 10, 'sup': 8, 'peer': 7, 'sub': 5, 'allraters': 5},\n",
    "            {'questionTitle': 'Question B this is a very long question, i need to see what would happen if they write such a long question over here to see how to fit this whole long paragraph into the cell. long long long long long long long long long long long long long long long long long long long long long long long long long long long long long long long long long long long long long long long long long long long long long long long long long long long long long long long long long long long long', 'ratingsImage': InlineImage(doc, 'images/trendImg.png', width=Mm(104), height=Mm(10)), 'self': 9, 'sup': 7, 'peer': 8, 'sub': 7, 'allraters': 2},\n",
    "        ],\n",
    "        'norm': 10\n",
    "    },\n",
    "    {\n",
    "        'category': \"Category 2\",\n",
    "        'questions': [\n",
    "            {'questionTitle': 'Question C', 'ratingsImage': InlineImage(doc, 'images/trendImg.png', width=Mm(104), height=Mm(10)), 'self': 5, 'sup': 9, 'peer': 4, 'sub': 3, 'allraters': 5},\n",
    "            {'questionTitle': 'Question D', 'ratingsImage': InlineImage(doc, 'images/trendImg.png', width=Mm(104), height=Mm(10)), 'self': 6, 'sup': 7, 'peer': 8, 'sub': 5, 'allraters': 6},\n",
    "            {'questionTitle': 'Question E', 'ratingsImage': InlineImage(doc, 'images/trendImg.png', width=Mm(104), height=Mm(10)), 'self': 10, 'sup': 8, 'peer': 7, 'sub': 5, 'allraters': 8},\n",
    "        ],\n",
    "        'norm': 8\n",
    "    }\n",
    "]\n",
    "\n",
    "surveyResults2 = surveyResults\n",
    "\n",
    "# create context to pass data to template\n",
    "context = {\n",
    "    \"reportDtStr\": todayStr,\n",
    "    \"salesTblRows\": salesTblRows,\n",
    "    \"topItemsRows\": topItems,\n",
    "    \"surveyResults\": surveyResults,\n",
    "    \"surveyResults2\": surveyResults2\n",
    "}\n",
    "\n",
    "# render context into the document object\n",
    "doc.render(context)\n",
    "\n",
    "# save the document object as a word file\n",
    "reportWordPath = 'reports/report_{0}.docx'.format(todayStr)\n",
    "doc.save(reportWordPath)\n",
    "\n",
    "# convert the word file as pdf file\n",
    "convert(reportWordPath, reportWordPath.replace(\".docx\", \".pdf\"))"
   ]
  },
  {
   "cell_type": "code",
   "execution_count": null,
   "metadata": {},
   "outputs": [],
   "source": []
  }
 ],
 "metadata": {
  "kernelspec": {
   "display_name": "Python [conda env:Graphs] *",
   "language": "python",
   "name": "conda-env-Graphs-py"
  },
  "language_info": {
   "codemirror_mode": {
    "name": "ipython",
    "version": 3
   },
   "file_extension": ".py",
   "mimetype": "text/x-python",
   "name": "python",
   "nbconvert_exporter": "python",
   "pygments_lexer": "ipython3",
   "version": "3.9.7"
  }
 },
 "nbformat": 4,
 "nbformat_minor": 4
}
