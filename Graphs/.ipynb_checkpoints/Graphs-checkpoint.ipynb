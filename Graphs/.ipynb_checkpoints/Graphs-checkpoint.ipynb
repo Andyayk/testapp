{
 "cells": [
  {
   "cell_type": "markdown",
   "metadata": {},
   "source": [
    "# Generate Line Chart"
   ]
  },
  {
   "cell_type": "code",
   "execution_count": 2,
   "metadata": {},
   "outputs": [
    {
     "data": {
      "image/png": "[encoded data removed]",
      "text/plain": [
       "<Figure size 432x288 with 1 Axes>"
      ]
     },
     "metadata": {
      "needs_background": "light"
     },
     "output_type": "display_data"
    }
   ],
   "source": [
    "import matplotlib.pyplot as plt\n",
    "import numpy as np\n",
    "\n",
    "data = [8, 8.7, 7.1, 8.2, 6, 6.6, 7.7 , 8.9, 9.2, 7.6] #**data from user**\n",
    "\n",
    "fig, ax = plt.subplots()  #create a figure containing a single axes\n",
    "\n",
    "ax.xaxis.tick_top() #move x axis to the top\n",
    "\n",
    "plt.xlim([0, 10]) #set a fixed range of value for x axis\n",
    "plt.ylim([1, 10]) #set a fixed range of value for y axis\n",
    "\n",
    "plt.xticks(np.arange(0, 11, 1)) #set frequency of tick marks for x axis\n",
    "plt.yticks(np.arange(1, 11, 1)) #set frequency of tick marks for y axis\n",
    "\n",
    "plt.axvline(x = 5, color = 'r', linestyle = '-') #add middle line\n",
    "\n",
    "plt.tick_params(left = False, labelleft = False) #remove ticks on y axis\n",
    "\n",
    "fixedYRange = np.arange(1, 11, 1) #set for range for the plot to locate the data points on y axis\n",
    "\n",
    "ax.plot(data, fixedYRange)  #plot some data on the axes. (x, y)\n",
    "\n",
    "plt.show()"
   ]
  },
  {
   "cell_type": "markdown",
   "metadata": {},
   "source": [
    "# Generate Bar Chart"
   ]
  },
  {
   "cell_type": "code",
   "execution_count": 3,
   "metadata": {},
   "outputs": [
    {
     "data": {
      "image/png": "[encoded data removed]",
      "text/plain": [
       "<Figure size 432x288 with 1 Axes>"
      ]
     },
     "metadata": {
      "needs_background": "light"
     },
     "output_type": "display_data"
    }
   ],
   "source": [
    "import matplotlib.pyplot as plt\n",
    "import numpy as np\n",
    "import pandas as pd\n",
    "from pandas import Series, DataFrame\n",
    "from matplotlib.ticker import FuncFormatter, MaxNLocator\n",
    "\n",
    "data = [-4, 1, 3, 3, 3, 1, 5, -2, -1] #**data from user**\n",
    "data2 = [-5, 2, 1, 4, 5, 3, 2, -3, -1] #**data from user**\n",
    "data3 = [-3, 4, 2, -4, -5, 4, 1, -2, 3.8] #**data from user**\n",
    "\n",
    "fig, ax = plt.subplots()  #create a figure containing a single axes\n",
    "\n",
    "width = 0.27 #the width of the bars\n",
    "\n",
    "ax.xaxis.tick_top() #move x axis to the top\n",
    "\n",
    "plt.xlim([-4, 4]) #set a fixed range of value for x axis\n",
    "\n",
    "plt.axvline(x = 0, color = 'r', linestyle = '-') #add middle line\n",
    "\n",
    "plt.tick_params(left = False, labelleft = False) #remove ticks on y axis\n",
    "\n",
    "fixedXRange = np.arange(-4, 5, 1) #set for range for the plot to locate the data points on x axis, FixedLocator error\n",
    "\n",
    "labels = ('<=-4', '-3', '-2', '-1', '0', '1', '2', '3', '>=4') #set the labels of each bins\n",
    "y_pos = np.arange(len(labels)); #set x coordinates of the bars\n",
    "\n",
    "ax.set_xticks(fixedXRange)\n",
    "ax.set_xticklabels(labels)\n",
    "\n",
    "ax.barh(y_pos, data, width, align='center', color='r') #plot a horizontal bar chart\n",
    "ax.barh(y_pos+width, data2, width, align='center', color='b') #plot a horizontal bar chart\n",
    "ax.barh(y_pos+width*2, data3, width, align='center', color='g') #plot a horizontal bar chart\n",
    "\n",
    "plt.show()"
   ]
  },
  {
   "cell_type": "markdown",
   "metadata": {},
   "source": [
    "# Creating single file from single template"
   ]
  },
  {
   "cell_type": "code",
   "execution_count": 5,
   "metadata": {},
   "outputs": [
    {
     "name": "stderr",
     "output_type": "stream",
     "text": [
      "100%|████████████████████████████████████████████████████████████████████████████████████| 1/1 [00:04<00:00,  4.30s/it]\n"
     ]
    }
   ],
   "source": [
    "import os\n",
    "import datetime as dt\n",
    "\n",
    "from docxtpl import DocxTemplate, InlineImage\n",
    "from docx2pdf import convert\n",
    "\n",
    "# create a document object\n",
    "doc = DocxTemplate(os.getcwd() + \"\\templates\\inviteTmpl.docx\")\n",
    "\n",
    "# create context dictionary\n",
    "context = {\n",
    "    \"todayStr\": dt.datetime.now().strftime(\"%d-%b-%Y\"),\n",
    "    \"recipientName\": \"Chaitanya\",\n",
    "    \"evntDtStr\": \"21-Oct-2021\",\n",
    "    \"venueStr\": \"the beach\",\n",
    "    \"senderName\": \"Sanket\",\n",
    "}\n",
    "\n",
    "# inject image into the context\n",
    "context['bannerImg'] = InlineImage(doc, 'images/party_banner_0.png')\n",
    "\n",
    "# render context into the document object\n",
    "doc.render(context)\n",
    "\n",
    "# save the document object as a word file\n",
    "doc.save('invitation.docx')\n",
    "\n",
    "# convert word file to a pdf file\n",
    "convert('invitation.docx', 'invitation.pdf')"
   ]
  },
  {
   "cell_type": "markdown",
   "metadata": {},
   "source": [
    "# Creating multiple files from single template"
   ]
  },
  {
   "cell_type": "code",
   "execution_count": 6,
   "metadata": {},
   "outputs": [
    {
     "name": "stderr",
     "output_type": "stream",
     "text": [
      "100%|████████████████████████████████████████████████████████████████████████████████████| 1/1 [00:02<00:00,  2.62s/it]\n",
      "100%|████████████████████████████████████████████████████████████████████████████████████| 1/1 [00:03<00:00,  3.44s/it]\n",
      "100%|████████████████████████████████████████████████████████████████████████████████████| 1/1 [00:03<00:00,  3.40s/it]\n",
      "100%|████████████████████████████████████████████████████████████████████████████████████| 1/1 [00:03<00:00,  3.54s/it]\n",
      "100%|████████████████████████████████████████████████████████████████████████████████████| 1/1 [00:03<00:00,  3.68s/it]\n",
      "100%|████████████████████████████████████████████████████████████████████████████████████| 1/1 [00:03<00:00,  3.72s/it]\n",
      "100%|████████████████████████████████████████████████████████████████████████████████████| 1/1 [00:03<00:00,  3.81s/it]"
     ]
    },
    {
     "name": "stdout",
     "output_type": "stream",
     "text": [
      "execution complete...\n"
     ]
    },
    {
     "name": "stderr",
     "output_type": "stream",
     "text": [
      "\n"
     ]
    }
   ],
   "source": [
    "from docxtpl import DocxTemplate, InlineImage\n",
    "import datetime as dt\n",
    "from docx2pdf import convert\n",
    "\n",
    "# template word file path\n",
    "tmplPath = \"templates/inviteTmpl.docx\"\n",
    "\n",
    "personNames = [\"Aakav\", \"Aakesh\", \"Aarav\",\n",
    "               \"Advik\", \"Chaitanya\", \"Chandran\", \"Darsh\"]\n",
    "\n",
    "# run for each person in a for loop\n",
    "for pItr, p in enumerate(personNames):\n",
    "    # create a document object\n",
    "    doc = DocxTemplate(tmplPath)\n",
    "\n",
    "    # create context dictionary\n",
    "    context = {\n",
    "        \"todayStr\": dt.datetime.now().strftime(\"%d-%b-%Y\"),\n",
    "        \"recipientName\": p,\n",
    "        \"evntDtStr\": \"21-Oct-2021\",\n",
    "        \"venueStr\": \"the beach\",\n",
    "        \"senderName\": \"Sanket\",\n",
    "    }\n",
    "\n",
    "    # inject image into the context\n",
    "    bannerImgPath = 'images/party_banner_{0}.png'.format(pItr % 3)\n",
    "    imgObj = InlineImage(doc, bannerImgPath)\n",
    "    context['bannerImg'] = imgObj\n",
    "\n",
    "    # render context into the document object\n",
    "    doc.render(context)\n",
    "\n",
    "    # save the document object as a word file\n",
    "    resultFilePath = 'invites/invitation_{0}.docx'.format(pItr)\n",
    "    doc.save(resultFilePath)\n",
    "\n",
    "    # convert the word file into pdf\n",
    "    convert(resultFilePath, resultFilePath.replace('.docx', '.pdf'))\n",
    "\n",
    "print(\"execution complete...\")"
   ]
  },
  {
   "cell_type": "markdown",
   "metadata": {},
   "source": [
    "# Reports Automation"
   ]
  },
  {
   "cell_type": "code",
   "execution_count": 8,
   "metadata": {},
   "outputs": [
    {
     "name": "stderr",
     "output_type": "stream",
     "text": [
      "100%|████████████████████████████████████████████████████████████████████████████████████| 1/1 [00:04<00:00,  4.41s/it]\n"
     ]
    },
    {
     "data": {
      "image/png": "[encoded data removed]",
      "text/plain": [
       "<Figure size 432x288 with 1 Axes>"
      ]
     },
     "metadata": {
      "needs_background": "light"
     },
     "output_type": "display_data"
    }
   ],
   "source": [
    "import datetime as dt\n",
    "import random\n",
    "from docx2pdf import convert\n",
    "import matplotlib.pyplot as plt\n",
    "from docxtpl import DocxTemplate, InlineImage\n",
    "\n",
    "# create a document object\n",
    "doc = DocxTemplate(\"templates/reportTmpl.docx\")\n",
    "\n",
    "# create data for reports\n",
    "salesTblRows = []\n",
    "for k in range(10):\n",
    "    costPu = random.randint(1, 15)\n",
    "    nUnits = random.randint(100, 500)\n",
    "    salesTblRows.append({\"sNo\": k+1, \"name\": \"Item \"+str(k+1),\n",
    "                         \"cPu\": costPu, \"nUnits\": nUnits, \"revenue\": costPu*nUnits})\n",
    "\n",
    "topItems = [x[\"name\"] for x in sorted(salesTblRows, key=lambda x: x[\"revenue\"], reverse=True)][0:3]\n",
    "\n",
    "todayStr = dt.datetime.now().strftime(\"%d-%b-%Y\")\n",
    "\n",
    "# create context to pass data to template\n",
    "context = {\n",
    "    \"reportDtStr\": todayStr,\n",
    "    \"salesTblRows\": salesTblRows,\n",
    "    \"topItemsRows\": topItems\n",
    "}\n",
    "\n",
    "# inject image into the context\n",
    "fig, ax = plt.subplots()\n",
    "ax.bar([x[\"name\"] for x in salesTblRows], [x[\"revenue\"] for x in salesTblRows])\n",
    "fig.tight_layout()\n",
    "fig.savefig(\"images/trendImg.png\")\n",
    "context['trendImg'] = InlineImage(doc, 'images/trendImg.png')\n",
    "\n",
    "# render context into the document object\n",
    "doc.render(context)\n",
    "\n",
    "# save the document object as a word file\n",
    "reportWordPath = 'reports/report_{0}.docx'.format(todayStr)\n",
    "doc.save(reportWordPath)\n",
    "\n",
    "# convert the word file as pdf file\n",
    "convert(reportWordPath, reportWordPath.replace(\".docx\", \".pdf\"))"
   ]
  },
  {
   "cell_type": "code",
   "execution_count": null,
   "metadata": {},
   "outputs": [],
   "source": []
  }
 ],
 "metadata": {
  "kernelspec": {
   "display_name": "Python [conda env:Graphs]",
   "language": "python",
   "name": "conda-env-Graphs-py"
  },
  "language_info": {
   "codemirror_mode": {
    "name": "ipython",
    "version": 3
   },
   "file_extension": ".py",
   "mimetype": "text/x-python",
   "name": "python",
   "nbconvert_exporter": "python",
   "pygments_lexer": "ipython3",
   "version": "3.9.7"
  }
 },
 "nbformat": 4,
 "nbformat_minor": 4
}
